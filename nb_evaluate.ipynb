{
 "cells": [
  {
   "cell_type": "markdown",
   "source": [
    "# Evaluating Siamese GNNs on Synthetic Graph Edit Distance Tasks"
   ],
   "metadata": {
    "collapsed": false
   }
  },
  {
   "cell_type": "markdown",
   "source": [
    "## Initialize and load model\n",
    "\n",
    "We first load a particular checkpoint of interest."
   ],
   "metadata": {
    "collapsed": false
   }
  },
  {
   "cell_type": "code",
   "execution_count": 20,
   "metadata": {
    "collapsed": true,
    "ExecuteTime": {
     "start_time": "2024-06-04T18:55:10.560355Z",
     "end_time": "2024-06-04T18:55:10.639088Z"
    }
   },
   "outputs": [
    {
     "data": {
      "text/plain": "<All keys matched successfully>"
     },
     "execution_count": 20,
     "metadata": {},
     "output_type": "execute_result"
    }
   ],
   "source": [
    "from model import GraphMatchingNetwork, GraphConvolutionNetwork\n",
    "import torch\n",
    "\n",
    "# Load checkpoint (full)\n",
    "filename = f'./checkpoints/gcn_frosty-tree-7.pth.tar'\n",
    "checkpoint = torch.load(filename, map_location=lambda storage,\n",
    "                        loc: storage.cuda() if torch.cuda.is_available() else storage.cpu())\n",
    "\n",
    "# Retrieve state dict\n",
    "state_dict = checkpoint['state_dict']\n",
    "cfg = checkpoint['config']\n",
    "\n",
    "# Initialize model\n",
    "if cfg.model.name == 'gmn':\n",
    "    model = GraphMatchingNetwork(cfg)\n",
    "elif cfg.model.name == 'gcn':\n",
    "    model = GraphConvolutionNetwork(cfg)\n",
    "else: raise ValueError(\"Model should be either GMN or GCN\")\n",
    "\n",
    "# Load state dict\n",
    "model.load_state_dict(state_dict)  # should output \"<All keys matched successfully>\""
   ]
  },
  {
   "cell_type": "markdown",
   "source": [
    "## Fixed Triplet Dataset"
   ],
   "metadata": {
    "collapsed": false
   }
  },
  {
   "cell_type": "code",
   "execution_count": 7,
   "outputs": [],
   "source": [
    "from utils import load_pickle\n",
    "\n",
    "# Fixed dataset settings\n",
    "num_nodes = 10\n",
    "kp = 1\n",
    "kn = 2\n",
    "pe = 0.2\n",
    "\n",
    "# Load dataset\n",
    "dataset = load_pickle(f\"./data/FixedDatasetGED_nodes={num_nodes}_kp={kp}_kn={kn}_pe={pe}.pickle\")"
   ],
   "metadata": {
    "collapsed": false,
    "ExecuteTime": {
     "start_time": "2024-06-04T18:15:56.572065Z",
     "end_time": "2024-06-04T18:15:56.928785Z"
    }
   }
  },
  {
   "cell_type": "markdown",
   "source": [
    "## Triplet accuracy\n",
    "\n",
    "Here we compute the triplet accuracy. </br>\n"
   ],
   "metadata": {
    "collapsed": false
   }
  },
  {
   "cell_type": "code",
   "execution_count": 21,
   "outputs": [
    {
     "data": {
      "text/plain": "  0%|          | 0/100 [00:00<?, ?it/s]",
      "application/vnd.jupyter.widget-view+json": {
       "version_major": 2,
       "version_minor": 0,
       "model_id": "700e9546842345ac944a3c93aa5195e7"
      }
     },
     "metadata": {},
     "output_type": "display_data"
    },
    {
     "name": "stdout",
     "output_type": "stream",
     "text": [
      "Performance (nodes=10 kp=1 kn=2 pe=0.2):\n",
      "\tAccuracy:\t1.0\n",
      "\tLosses:\t\t0.0\n",
      "\n"
     ]
    },
    {
     "data": {
      "text/plain": "  0%|          | 0/100 [00:00<?, ?it/s]",
      "application/vnd.jupyter.widget-view+json": {
       "version_major": 2,
       "version_minor": 0,
       "model_id": "3667032d2fe64602b9a8d35be559948c"
      }
     },
     "metadata": {},
     "output_type": "display_data"
    },
    {
     "name": "stdout",
     "output_type": "stream",
     "text": [
      "Performance (nodes=15 kp=1 kn=2 pe=0.2):\n",
      "\tAccuracy:\t0.009999999776482582\n",
      "\tLosses:\t\t120.17671203613281\n",
      "\n"
     ]
    },
    {
     "data": {
      "text/plain": "  0%|          | 0/100 [00:00<?, ?it/s]",
      "application/vnd.jupyter.widget-view+json": {
       "version_major": 2,
       "version_minor": 0,
       "model_id": "10c184ac4a2e46e391ddff84508f975e"
      }
     },
     "metadata": {},
     "output_type": "display_data"
    },
    {
     "name": "stdout",
     "output_type": "stream",
     "text": [
      "Performance (nodes=20 kp=1 kn=2 pe=0.2):\n",
      "\tAccuracy:\t0.0\n",
      "\tLosses:\t\t229.39964294433594\n",
      "\n"
     ]
    },
    {
     "data": {
      "text/plain": "  0%|          | 0/100 [00:00<?, ?it/s]",
      "application/vnd.jupyter.widget-view+json": {
       "version_major": 2,
       "version_minor": 0,
       "model_id": "5d5a9ad903a14712a85858409d7382af"
      }
     },
     "metadata": {},
     "output_type": "display_data"
    },
    {
     "name": "stdout",
     "output_type": "stream",
     "text": [
      "Performance (nodes=30 kp=1 kn=2 pe=0.2):\n",
      "\tAccuracy:\t0.0\n",
      "\tLosses:\t\t176.78652954101562\n",
      "\n"
     ]
    },
    {
     "data": {
      "text/plain": "  0%|          | 0/100 [00:00<?, ?it/s]",
      "application/vnd.jupyter.widget-view+json": {
       "version_major": 2,
       "version_minor": 0,
       "model_id": "c4d1fde83b964e388f86b23de3f5b680"
      }
     },
     "metadata": {},
     "output_type": "display_data"
    },
    {
     "name": "stdout",
     "output_type": "stream",
     "text": [
      "Performance (nodes=50 kp=1 kn=2 pe=0.2):\n",
      "\tAccuracy:\t0.5299999713897705\n",
      "\tLosses:\t\t0.8321780562400818\n",
      "\n"
     ]
    }
   ],
   "source": [
    "from utils import reshape_and_split_tensors\n",
    "from loss import triplet_loss\n",
    "from metrics import euclidean_distance\n",
    "from tqdm.auto import tqdm\n",
    "import numpy as np\n",
    "\n",
    "# Set model to eval model\n",
    "model.eval()\n",
    "\n",
    "for num_nodes in [10, 15, 20, 30, 50]:\n",
    "\n",
    "    # Fixed dataset settings\n",
    "    kp = 1\n",
    "    kn = 2\n",
    "    pe = 0.2\n",
    "\n",
    "    # Load dataset\n",
    "    dataset = load_pickle(f\"./data/FixedDatasetGED_nodes={num_nodes}_kp={kp}_kn={kn}_pe={pe}.pickle\")\n",
    "    dataset = dataset[:100]\n",
    "\n",
    "    # Loop through data\n",
    "    rel_distances = []\n",
    "    losses = []\n",
    "    for triplet in tqdm(dataset, total=len(dataset)):\n",
    "\n",
    "        # Prepare the data\n",
    "        edge_index = triplet['edge_index']  # edge index\n",
    "        node_feats = torch.ones(triplet.num_nodes, cfg.model.node_dim)  # node features to all-ones\n",
    "        edge_feats = torch.ones(triplet.num_edges, cfg.model.edge_dim)  # edge features to all-ones\n",
    "        batch_id = triplet['order']\n",
    "\n",
    "        # Feedforward\n",
    "        _, graph_feats = model(edge_index, x1=node_feats, x2=None, edge_feats=edge_feats, batch=batch_id)\n",
    "        graph_feats = reshape_and_split_tensors(graph_feats, 4)\n",
    "\n",
    "        # Get accuracy measure\n",
    "        rel_distances.append(euclidean_distance(graph_feats[0], graph_feats[1]) \\\n",
    "                   - euclidean_distance(graph_feats[2], graph_feats[3]))\n",
    "\n",
    "        # Get loss\n",
    "        losses.append(triplet_loss(*graph_feats, cfg).detach().numpy())\n",
    "\n",
    "    # print(rel_distances)\n",
    "    losses = np.mean(losses)\n",
    "    corrects = torch.sum(torch.tensor(rel_distances) < 0)\n",
    "    accuracy = corrects / len(dataset)\n",
    "\n",
    "    print(f\"Performance (nodes={num_nodes} kp={kp} kn={kn} pe={pe}):\\n\"\n",
    "          f\"\\tAccuracy:\\t{accuracy}\\n\"\n",
    "          f\"\\tLosses:\\t\\t{losses}\\n\")"
   ],
   "metadata": {
    "collapsed": false,
    "ExecuteTime": {
     "start_time": "2024-06-04T18:55:22.897721Z",
     "end_time": "2024-06-04T18:56:04.634643Z"
    }
   }
  },
  {
   "cell_type": "markdown",
   "source": [
    "**Looks weird ?? Why are the scores so off?**\n",
    "\n",
    "We will try it using the other dataloader"
   ],
   "metadata": {
    "collapsed": false
   }
  },
  {
   "cell_type": "code",
   "execution_count": null,
   "outputs": [],
   "source": [],
   "metadata": {
    "collapsed": false
   }
  }
 ],
 "metadata": {
  "kernelspec": {
   "display_name": "Python 3",
   "language": "python",
   "name": "python3"
  },
  "language_info": {
   "codemirror_mode": {
    "name": "ipython",
    "version": 2
   },
   "file_extension": ".py",
   "mimetype": "text/x-python",
   "name": "python",
   "nbconvert_exporter": "python",
   "pygments_lexer": "ipython2",
   "version": "2.7.6"
  }
 },
 "nbformat": 4,
 "nbformat_minor": 0
}
